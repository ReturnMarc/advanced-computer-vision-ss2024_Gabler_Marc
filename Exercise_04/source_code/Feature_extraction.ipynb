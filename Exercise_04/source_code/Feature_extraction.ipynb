{
 "cells": [
  {
   "cell_type": "code",
   "execution_count": 17,
   "metadata": {},
   "outputs": [],
   "source": [
    "import unittest\n",
    "import numpy as np\n",
    "from collections import deque\n",
    "from PIL import Image\n",
    "import pandas as pd\n",
    "import csv"
   ]
  },
  {
   "cell_type": "markdown",
   "metadata": {},
   "source": [
    "## Flood Fill Algorithm Implementation\n",
    "A basic implementation can be achieved using a queue-based approach for breadth-first search:"
   ]
  },
  {
   "cell_type": "code",
   "execution_count": 3,
   "metadata": {},
   "outputs": [],
   "source": [
    "def flood_fill(image, start, new_value):\n",
    "    rows, cols = image.shape\n",
    "    original_value = image[start]\n",
    "    \n",
    "    if original_value == new_value:\n",
    "        return  # Already filled\n",
    "\n",
    "    queue = deque([start])\n",
    "    directions = [(-1, 0), (1, 0), (0, -1), (0, 1)]\n",
    "    \n",
    "    while queue:\n",
    "        r, c = queue.popleft()\n",
    "        if image[r, c] == original_value:\n",
    "            image[r, c] = new_value\n",
    "            for dr, dc in directions:\n",
    "                nr, nc = r + dr, c + dc\n",
    "                if 0 <= nr < rows and 0 <= nc < cols and image[nr, nc] == original_value:\n",
    "                    queue.append((nr, nc))\n"
   ]
  },
  {
   "cell_type": "markdown",
   "metadata": {},
   "source": [
    "## Unittests for the Flood Fill Algorithm"
   ]
  },
  {
   "cell_type": "code",
   "execution_count": 5,
   "metadata": {},
   "outputs": [
    {
     "name": "stderr",
     "output_type": "stream",
     "text": [
      "test_fill_simple (__main__.TestFloodFill) ... ok\n",
      "test_fill_with_obstacles (__main__.TestFloodFill) ... ok\n",
      "\n",
      "----------------------------------------------------------------------\n",
      "Ran 2 tests in 0.008s\n",
      "\n",
      "OK\n"
     ]
    },
    {
     "data": {
      "text/plain": [
       "<unittest.main.TestProgram at 0x14ca6df1b40>"
      ]
     },
     "execution_count": 5,
     "metadata": {},
     "output_type": "execute_result"
    }
   ],
   "source": [
    "class TestFloodFill(unittest.TestCase):\n",
    "    \n",
    "    def setUp(self):\n",
    "        # Setup some test images for different scenarios\n",
    "        self.image1 = np.array([[1, 1, 1, 2, 2],\n",
    "                                [1, 1, 1, 2, 2],\n",
    "                                [3, 3, 1, 2, 2],\n",
    "                                [3, 3, 3, 3, 2]])\n",
    "        \n",
    "        self.image2 = np.array([[0, 0, 1, 0],\n",
    "                                [0, 1, 1, 1],\n",
    "                                [0, 1, 0, 0],\n",
    "                                [1, 1, 1, 0]])\n",
    "        \n",
    "    def test_fill_simple(self):\n",
    "        # Test a straightforward filling operation\n",
    "        image = self.image1.copy()\n",
    "        expected_result = np.array([[4, 4, 4, 2, 2],\n",
    "                                    [4, 4, 4, 2, 2],\n",
    "                                    [3, 3, 4, 2, 2],\n",
    "                                    [3, 3, 3, 3, 2]])\n",
    "        flood_fill(image, start=(0, 0), new_value=4)\n",
    "        self.assertTrue(np.array_equal(image, expected_result))\n",
    "    \n",
    "    def test_fill_with_obstacles(self):\n",
    "        # Test filling with obstacles where not all pixels should be filled\n",
    "        image = self.image2.copy()\n",
    "        expected_result = np.array([[0, 0, 4, 0],\n",
    "                                    [0, 4, 4, 4],\n",
    "                                    [0, 4, 0, 0],\n",
    "                                    [4, 4, 4, 0]])\n",
    "        flood_fill(image, start=(1, 1), new_value=4)\n",
    "        self.assertTrue(np.array_equal(image, expected_result))\n",
    "\n",
    "\n",
    "unittest.main(argv=[''], verbosity=2, exit=False)\n"
   ]
  },
  {
   "cell_type": "markdown",
   "metadata": {},
   "source": [
    "Apply the floodfill algorithm to extract the particles in the file \\texttt{shapes\\_binary.png}. Results should be stored as pixel coordinates for each particle in a file called \\texttt{particles.csv}."
   ]
  },
  {
   "cell_type": "code",
   "execution_count": 7,
   "metadata": {},
   "outputs": [
    {
     "data": {
      "text/plain": [
       "((1024, 1024), dtype('uint8'))"
      ]
     },
     "execution_count": 7,
     "metadata": {},
     "output_type": "execute_result"
    }
   ],
   "source": [
    "# Load the image file\n",
    "image_path = 'shapes_binary.png'\n",
    "image = Image.open(image_path)\n",
    "image_np = np.array(image)\n",
    "\n",
    "# Display the image's shape and type to understand what we are working with\n",
    "image_np.shape, image_np.dtype\n"
   ]
  },
  {
   "cell_type": "markdown",
   "metadata": {},
   "source": [
    "Visualize the detected particles. Do all results seem to be legitimate particles? If not, what is the reason and what can be done about it?"
   ]
  },
  {
   "cell_type": "code",
   "execution_count": 8,
   "metadata": {},
   "outputs": [
    {
     "data": {
      "text/plain": [
       "(28, 'particles.csv')"
      ]
     },
     "execution_count": 8,
     "metadata": {},
     "output_type": "execute_result"
    }
   ],
   "source": [
    "# Flood Fill Algorithm adapted to collect pixel coordinates\n",
    "def flood_fill_collect_coords(image, start, label, labels):\n",
    "    \"\"\"\n",
    "    Flood fill algorithm that collects coordinates of the filled area and applies a unique label to each area.\n",
    "    \"\"\"\n",
    "    rows, cols = image.shape\n",
    "    original_value = image[start]\n",
    "    if original_value != 255:  # Not a white pixel, or already visited\n",
    "        return []\n",
    "    \n",
    "    queue = deque([start])\n",
    "    directions = [(-1, 0), (1, 0), (0, -1), (0, 1)]\n",
    "    coords = []  # To store coordinates of the current particle\n",
    "    \n",
    "    while queue:\n",
    "        r, c = queue.popleft()\n",
    "        if image[r, c] == 255:  # Check if the pixel is white and not yet visited\n",
    "            image[r, c] = label  # Mark this pixel with a unique label\n",
    "            labels[r, c] = label  # Assign the label to the labels matrix\n",
    "            coords.append((r, c))\n",
    "            for dr, dc in directions:\n",
    "                nr, nc = r + dr, c + dc\n",
    "                if 0 <= nr < rows and 0 <= nc < cols and image[nr, nc] == 255:\n",
    "                    queue.append((nr, nc))\n",
    "    return coords\n",
    "\n",
    "# Initialize variables\n",
    "labeled_image = np.copy(image_np)  # Copy of the image to apply labels\n",
    "labels = np.zeros_like(image_np)  # Matrix to hold label data\n",
    "particle_coords = {}  # Dictionary to hold coordinates for each particle\n",
    "label_counter = 1  # Start labeling particles from 1\n",
    "\n",
    "# Process the image to find all particles\n",
    "for i in range(image_np.shape[0]):\n",
    "    for j in range(image_np.shape[1]):\n",
    "        if labeled_image[i, j] == 255:  # If the pixel is white and not yet visited\n",
    "            coords = flood_fill_collect_coords(labeled_image, (i, j), label_counter, labels)\n",
    "            if coords:\n",
    "                particle_coords[label_counter] = coords\n",
    "                label_counter += 1\n",
    "\n",
    "# Now, let's save the results to a CSV file\n",
    "all_particles = []\n",
    "for label, coordinates in particle_coords.items():\n",
    "    for coord in coordinates:\n",
    "        all_particles.append([label, coord[0], coord[1]])\n",
    "\n",
    "df_particles = pd.DataFrame(all_particles, columns=['Particle', 'Row', 'Column'])\n",
    "csv_path = 'particles.csv'\n",
    "df_particles.to_csv(csv_path, index=False)\n",
    "\n",
    "# Check how many particles we've detected\n",
    "len(particle_coords), csv_path\n"
   ]
  },
  {
   "cell_type": "code",
   "execution_count": 9,
   "metadata": {},
   "outputs": [
    {
     "data": {
      "image/png": "[encoded data removed]",
      "text/plain": [
       "<Figure size 1200x600 with 2 Axes>"
      ]
     },
     "metadata": {},
     "output_type": "display_data"
    }
   ],
   "source": [
    "import matplotlib.pyplot as plt\n",
    "import matplotlib.colors as mcolors\n",
    "\n",
    "# Generate colors for each particle\n",
    "colors = list(mcolors.TABLEAU_COLORS.keys())  # Use Tableau colors for differentiation\n",
    "extended_colors = colors * (len(particle_coords) // len(colors) + 1)  # Repeat colors if not enough\n",
    "\n",
    "# Create a color-mapped image\n",
    "color_mapped_image = np.zeros((image_np.shape[0], image_np.shape[1], 3), dtype=np.uint8)\n",
    "for label, coords in particle_coords.items():\n",
    "    color = mcolors.to_rgb(extended_colors[label-1])  # Get RGB color\n",
    "    for (r, c) in coords:\n",
    "        color_mapped_image[r, c] = [int(255 * ch) for ch in color]  # Apply the color\n",
    "\n",
    "# Plot the original and the color-mapped images\n",
    "fig, ax = plt.subplots(1, 2, figsize=(12, 6))\n",
    "ax[0].imshow(image_np, cmap='gray')\n",
    "ax[0].set_title('Original Binary Image')\n",
    "ax[0].axis('off')\n",
    "\n",
    "ax[1].imshow(color_mapped_image)\n",
    "ax[1].set_title('Detected Particles')\n",
    "ax[1].axis('off')\n",
    "\n",
    "plt.show()"
   ]
  },
  {
   "cell_type": "markdown",
   "metadata": {},
   "source": [
    "## detect the particles using isocontours"
   ]
  },
  {
   "cell_type": "code",
   "execution_count": 13,
   "metadata": {},
   "outputs": [],
   "source": [
    "def extract_isocontours(image):\n",
    "    rows, cols = image.shape\n",
    "    contours = []\n",
    "    # Look for transitions from 0 to 1 (edge of an object)\n",
    "    for i in range(1, rows):\n",
    "        for j in range(1, cols):\n",
    "            # Check boundaries around pixel to detect edge\n",
    "            if image[i, j] == 1 and (image[i-1, j] == 0 or image[i, j-1] == 0 or image[i+1, j] == 0 or image[i, j+1] == 0):\n",
    "                contours.append((i, j))\n",
    "    return contours"
   ]
  },
  {
   "cell_type": "code",
   "execution_count": 16,
   "metadata": {},
   "outputs": [
    {
     "name": "stderr",
     "output_type": "stream",
     "text": [
      "test_fill_simple (__main__.TestFloodFill) ... ok\n",
      "test_fill_with_obstacles (__main__.TestFloodFill) ... ok\n",
      "test_no_object (__main__.TestIsocontours) ... ok\n",
      "test_simple_square (__main__.TestIsocontours) ... ok\n",
      "\n",
      "----------------------------------------------------------------------\n",
      "Ran 4 tests in 0.010s\n",
      "\n",
      "OK\n"
     ]
    },
    {
     "data": {
      "text/plain": [
       "<unittest.main.TestProgram at 0x14cac1344c0>"
      ]
     },
     "execution_count": 16,
     "metadata": {},
     "output_type": "execute_result"
    }
   ],
   "source": [
    "class TestIsocontours(unittest.TestCase):\n",
    "    \n",
    "    def setUp(self):\n",
    "        # Setup test images\n",
    "        self.simple_image = np.zeros((10, 10), dtype=int)\n",
    "        self.simple_image[2:8, 2:8] = 1  # Simple square in the middle\n",
    "\n",
    "    def test_simple_square(self):\n",
    "        # Expect all boundary pixels instead of just corners\n",
    "        contours = extract_isocontours(self.simple_image)\n",
    "        expected_contours = [(x, y) for x in range(2, 8) for y in range(2, 8) if x in [2, 7] or y in [2, 7]]\n",
    "        self.assertEqual(set(contours), set(expected_contours))\n",
    "\n",
    "\n",
    "    def test_no_object(self):\n",
    "        # Test an image with no objects\n",
    "        image = np.zeros((10, 10), dtype=int)\n",
    "        contours = extract_isocontours(image)\n",
    "        self.assertEqual(len(contours), 0)\n",
    "\n",
    "# More tests can be designed for complex shapes and edge cases\n",
    "\n",
    "unittest.main(argv=[''], verbosity=2, exit=False)\n"
   ]
  },
  {
   "cell_type": "code",
   "execution_count": 18,
   "metadata": {},
   "outputs": [
    {
     "data": {
      "text/plain": [
       "'contours.csv'"
      ]
     },
     "execution_count": 18,
     "metadata": {},
     "output_type": "execute_result"
    }
   ],
   "source": [
    "# Load the image again\n",
    "image_path = 'shapes_binary.png'\n",
    "image = Image.open(image_path)\n",
    "image_array = np.array(image)\n",
    "\n",
    "# Applying the function to the image\n",
    "contour_points = extract_isocontours(image_array)\n",
    "\n",
    "# Save the results to a CSV file\n",
    "output_path = 'contours.csv'\n",
    "with open(output_path, 'w', newline='') as csvfile:\n",
    "    contour_writer = csv.writer(csvfile)\n",
    "    contour_writer.writerow(['X', 'Y'])\n",
    "    for point in contour_points:\n",
    "        contour_writer.writerow(point)\n",
    "\n",
    "output_path"
   ]
  },
  {
   "cell_type": "markdown",
   "metadata": {},
   "source": [
    "### Computing the Area of Each Particle"
   ]
  },
  {
   "cell_type": "code",
   "execution_count": 19,
   "metadata": {},
   "outputs": [],
   "source": [
    "def flood_fill_area(image, start, visited):\n",
    "    \"\"\" Use flood fill to calculate the area of the particle. \"\"\"\n",
    "    stack = [start]\n",
    "    area = 0\n",
    "    rows, cols = image.shape\n",
    "    while stack:\n",
    "        x, y = stack.pop()\n",
    "        if (x, y) in visited or image[x, y] == 0:\n",
    "            continue\n",
    "        visited.add((x, y))\n",
    "        area += 1\n",
    "        # Check all four adjacent pixels\n",
    "        if x > 0:\n",
    "            stack.append((x - 1, y))\n",
    "        if x < rows - 1:\n",
    "            stack.append((x + 1, y))\n",
    "        if y > 0:\n",
    "            stack.append((x, y - 1))\n",
    "        if y < cols - 1:\n",
    "            stack.append((x, y + 1))\n",
    "    return area"
   ]
  },
  {
   "cell_type": "markdown",
   "metadata": {},
   "source": [
    "### Computing the Length of the Contour"
   ]
  },
  {
   "cell_type": "code",
   "execution_count": 20,
   "metadata": {},
   "outputs": [
    {
     "data": {
      "text/plain": [
       "[]"
      ]
     },
     "execution_count": 20,
     "metadata": {},
     "output_type": "execute_result"
    }
   ],
   "source": [
    "def calculate_contour_length(contours):\n",
    "    \"\"\" Calculate the length of contours by counting the number of pixels. \"\"\"\n",
    "    return len(contours)\n",
    "\n",
    "# Prepare to segment image and calculate areas and contour lengths\n",
    "particles_data = []\n",
    "visited = set()\n",
    "\n",
    "# Since we need to detect particles, we start by finding seeds for flood fill\n",
    "for i in range(image_array.shape[0]):\n",
    "    for j in range(image_array.shape[1]):\n",
    "        if (i, j) not in visited and image_array[i, j] == 1:\n",
    "            # Calculate area using flood fill\n",
    "            area = flood_fill_area(image_array, (i, j), visited)\n",
    "            # Calculate contour length from previously saved contours\n",
    "            # This is a simple approach where we assume we know the contours beforehand.\n",
    "            # Normally, you would also need to detect and match the contours per particle.\n",
    "            contour_length = calculate_contour_length([(x, y) for x, y in contour_points if x == i and y == j])\n",
    "            particles_data.append({'seed': (i, j), 'area': area, 'contour_length': contour_length})\n",
    "\n",
    "# Output the first few results to check\n",
    "particles_data[:10]"
   ]
  }
 ],
 "metadata": {
  "kernelspec": {
   "display_name": "nlm",
   "language": "python",
   "name": "python3"
  },
  "language_info": {
   "codemirror_mode": {
    "name": "ipython",
    "version": 3
   },
   "file_extension": ".py",
   "mimetype": "text/x-python",
   "name": "python",
   "nbconvert_exporter": "python",
   "pygments_lexer": "ipython3",
   "version": "3.10.13"
  }
 },
 "nbformat": 4,
 "nbformat_minor": 2
}
